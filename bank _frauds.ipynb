{
 "cells": [
  {
   "cell_type": "code",
   "execution_count": null,
   "id": "78311059",
   "metadata": {},
   "outputs": [],
   "source": [
    "import pandas as pd\n",
    "import numpy as np\n",
    "import matplotlib.pyplot as plt\n",
    "from sklearn.ensemble import RandomForestClassifier\n",
    "from sklearn.ensemble import GradientBoostingClassifier\n",
    "from sklearn.linear_model import LogisticRegression\n",
    "from sklearn import model_selection\n",
    "from sklearn import metrics\n",
    "import seaborn as sns\n",
    "from sklearn.metrics import accuracy_score\n",
    "from sklearn.metrics import recall_score\n",
    "import tensorflow as tf\n",
    "from sklearn import preprocessing"
   ]
  },
  {
   "cell_type": "code",
   "execution_count": 50,
   "id": "3267fdfd",
   "metadata": {},
   "outputs": [],
   "source": [
    "data=pd.read_csv(r\"D:\\python for data science\\creditcard.csv\")"
   ]
  },
  {
   "cell_type": "code",
   "execution_count": null,
   "id": "383d6442",
   "metadata": {},
   "outputs": [],
   "source": [
    "data.describe()\n",
    "data.info()\n",
    "data.isnull().sum()\n"
   ]
  },
  {
   "cell_type": "code",
   "execution_count": null,
   "id": "a0cf7ef0",
   "metadata": {},
   "outputs": [],
   "source": [
    "plt.Figure(figsize=(1000,500))\n",
    "sns.histplot(data=data , x=\"Class\")\n",
    "plt.title(\"Distribution of bank frauds\")\n",
    "plt.show()\n"
   ]
  },
  {
   "cell_type": "code",
   "execution_count": 59,
   "id": "1659c6b4",
   "metadata": {},
   "outputs": [
    {
     "data": {
      "text/plain": [
       "((227845, 30), (227845, 1))"
      ]
     },
     "execution_count": 59,
     "metadata": {},
     "output_type": "execute_result"
    }
   ],
   "source": [
    "\n",
    "y=data[\"Class\"]\n",
    "x=data.drop([\"Class\"] , axis=1)\n",
    "\n",
    "y_standard = preprocessing.MinMaxScaler()\n",
    "y = y_standard.fit_transform(y.values.reshape(-1 , 1)) \n",
    "x_standard = preprocessing.StandardScaler()\n",
    "x = x_standard.fit_transform(x)\n",
    "x_train, x_test, y_train, y_test = model_selection.train_test_split(x, y, test_size=0.2, random_state=42 , stratify=y)\n",
    "x_train.shape  ,y_train.shape"
   ]
  },
  {
   "cell_type": "code",
   "execution_count": null,
   "id": "fbd6d0b1",
   "metadata": {},
   "outputs": [],
   "source": [
    "modeles={\"RandomForestClassifier\":RandomForestClassifier() , \n",
    "         \"LogisticRegression\" :LogisticRegression()}\n",
    "\n",
    "for name,x in modeles.items():\n",
    "    x.fit(x_train,y_train)\n",
    "    y_pre=x.predict(x_train)\n",
    "   \n",
    "    accuracy=accuracy_score(y_train, y_pre)\n",
    "    score=recall_score(y_train , y_pre)\n",
    "    print(f\"{name} and accuracy(train) score is {accuracy} and recall_score{score} \")"
   ]
  },
  {
   "cell_type": "code",
   "execution_count": null,
   "id": "5b9b6da3",
   "metadata": {},
   "outputs": [],
   "source": [
    "best_model=RandomForestClassifier()\n",
    "best_model.fit(x_train,y_train)\n",
    "y_pre=best_model.predict(x_test)\n",
    "print(accuracy_score(y_test,y_pre) , recall_score(y_test,y_pre))"
   ]
  },
  {
   "cell_type": "code",
   "execution_count": null,
   "id": "e7dd566a",
   "metadata": {},
   "outputs": [],
   "source": [
    "input_shape=x_train.shape[1]\n",
    "input_layer=tf.keras.layers.Input(shape=(input_shape,))  \n",
    "dense_layer1=tf.keras.layers.Dense(units=512 , activation=tf.nn.leaky_relu)(input_layer)  \n",
    "dense_layer2= tf.keras.layers.Dense(units=128 , activation=tf.nn.leaky_relu)(dense_layer1)\n",
    "output_layer= tf.keras.layers.Dense(units=2 , activation=tf.nn.softmax)(dense_layer2)\n",
    "model1=tf.keras.Model(inputs=[input_layer] , outputs=[output_layer])\n",
    "\n",
    "model1.summary()\n",
    "\n",
    "model1.compile(optimizer=tf.optimizers.Adam() , loss=tf.losses.CategoricalCrossentropy()\n",
    "               , metrics=[tf.metrics.CategoricalAccuracy()])\n",
    "\n",
    "model1.fit(x=x_train , y=y_train , epochs=10 , validation_split=0.1 , batch_size=32)\n",
    "df1 = pd.DataFrame(model1.history.history)\n",
    "df1.plot()"
   ]
  }
 ],
 "metadata": {
  "kernelspec": {
   "display_name": ".venv",
   "language": "python",
   "name": "python3"
  },
  "language_info": {
   "codemirror_mode": {
    "name": "ipython",
    "version": 3
   },
   "file_extension": ".py",
   "mimetype": "text/x-python",
   "name": "python",
   "nbconvert_exporter": "python",
   "pygments_lexer": "ipython3",
   "version": "3.11.9"
  }
 },
 "nbformat": 4,
 "nbformat_minor": 5
}
